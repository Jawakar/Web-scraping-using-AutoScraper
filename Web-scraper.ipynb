{
 "cells": [
  {
   "cell_type": "code",
   "execution_count": 5,
   "metadata": {},
   "outputs": [
    {
     "name": "stdout",
     "output_type": "stream",
     "text": [
      "Requirement already satisfied: autoscraper in c:\\users\\jawakar\\anaconda3\\lib\\site-packages (1.1.12)\n",
      "Requirement already satisfied: requests in c:\\users\\jawakar\\anaconda3\\lib\\site-packages (from autoscraper) (2.24.0)\n",
      "Requirement already satisfied: bs4 in c:\\users\\jawakar\\anaconda3\\lib\\site-packages (from autoscraper) (0.0.1)\n",
      "Requirement already satisfied: lxml in c:\\users\\jawakar\\anaconda3\\lib\\site-packages (from autoscraper) (4.6.1)\n",
      "Requirement already satisfied: chardet<4,>=3.0.2 in c:\\users\\jawakar\\anaconda3\\lib\\site-packages (from requests->autoscraper) (3.0.4)\n",
      "Requirement already satisfied: idna<3,>=2.5 in c:\\users\\jawakar\\anaconda3\\lib\\site-packages (from requests->autoscraper) (2.10)\n",
      "Requirement already satisfied: certifi>=2017.4.17 in c:\\users\\jawakar\\anaconda3\\lib\\site-packages (from requests->autoscraper) (2020.6.20)\n",
      "Requirement already satisfied: urllib3!=1.25.0,!=1.25.1,<1.26,>=1.21.1 in c:\\users\\jawakar\\anaconda3\\lib\\site-packages (from requests->autoscraper) (1.25.11)\n",
      "Requirement already satisfied: beautifulsoup4 in c:\\users\\jawakar\\anaconda3\\lib\\site-packages (from bs4->autoscraper) (4.9.3)\n",
      "Requirement already satisfied: soupsieve>1.2; python_version >= \"3.0\" in c:\\users\\jawakar\\anaconda3\\lib\\site-packages (from beautifulsoup4->bs4->autoscraper) (2.0.1)\n"
     ]
    }
   ],
   "source": [
    " !pip install autoscraper"
   ]
  },
  {
   "cell_type": "code",
   "execution_count": 6,
   "metadata": {},
   "outputs": [],
   "source": [
    "from autoscraper import AutoScraper"
   ]
  },
  {
   "cell_type": "code",
   "execution_count": 20,
   "metadata": {},
   "outputs": [],
   "source": [
    "amazon_url='https://www.amazon.in/s?k=alexa'\n",
    "\n",
    "wanted_list=['https://m.media-amazon.com/images/I/61KIy6gX-CL._AC_UY218_.jpg','All-new Echo Dot (4th Gen) | Next generation smart speaker with improved bass and Alexa (Black)','₹3,449']"
   ]
  },
  {
   "cell_type": "code",
   "execution_count": 21,
   "metadata": {},
   "outputs": [
    {
     "name": "stdout",
     "output_type": "stream",
     "text": [
      "{'rule_nh7g': ['https://m.media-amazon.com/images/I/61KIy6gX-CL._AC_UY218_.jpg', 'https://m.media-amazon.com/images/I/61MbLLagiVL._AC_UY218_.jpg', 'https://m.media-amazon.com/images/I/61EXU8BuGZL._AC_UY218_.jpg', 'https://m.media-amazon.com/images/I/61u0y9ADElL._AC_UY218_.jpg', 'https://m.media-amazon.com/images/I/61V25P7mlyL._AC_UY218_.jpg', 'https://m.media-amazon.com/images/I/51UZ17lvVFL._AC_UY218_.jpg', 'https://m.media-amazon.com/images/I/61EXU8BuGZL._AC_UY218_.jpg', 'https://m.media-amazon.com/images/I/61-DjUz7JxL._AC_UY218_.jpg', 'https://m.media-amazon.com/images/I/61RvgtLChZL._AC_UY218_.jpg', 'https://m.media-amazon.com/images/I/618AB7m2HML._AC_UY218_.jpg', 'https://m.media-amazon.com/images/I/61NIsUGl+FL._AC_UY218_.jpg', 'https://m.media-amazon.com/images/I/61fAoBkYQ1L._AC_UY218_.jpg', 'https://m.media-amazon.com/images/I/61fAoBkYQ1L._AC_UY218_.jpg', 'https://m.media-amazon.com/images/I/61RyEv5mnNL._AC_UY218_.jpg', 'https://m.media-amazon.com/images/I/51b9EVQUNNL._AC_UY218_.jpg', 'https://m.media-amazon.com/images/I/51mXq6pWMYL._AC_UY218_.jpg'], 'rule_0eo0': ['All-new Echo Dot (4th Gen) | Next generation smart speaker with improved bass and Alexa (Black)', 'All-new Echo Dot (4th Gen) | Next generation smart speaker with improved bass and Alexa (Blue)', 'Echo Dot (3rd Gen) – Smart speaker with Alexa (Black)', 'All-new Echo Dot (4th Gen) with clock | Next generation smart speaker with improved bass, LED display and Alexa (Blue)', 'Echo Dot (3rd Gen) – Smart speaker with Alexa (Purple)', 'Introducing Echo Show 8 – Smart display with Alexa - 8\" HD screen with stereo sound – Black', 'Echo Dot (3rd Gen), Certified Refurbished, Black – Improved smart speaker with Alexa – Like new, backed with 1-year warranty', 'All-new Echo (4th Gen) | Premium sound powered by Dolby and Alexa (Black)', 'Introducing Echo Show 5 - Smart display with Alexa - 5.5\" screen & crisp sound (White)', 'Echo Dot (3rd Gen, Purple) Combo with Wipro 9W LED Smart Color Bulb - Smart Home Starter Kit', 'All-new Echo (4th Gen) | Premium sound powered by Dolby and Alexa (Blue)', 'Echo Dot (3rd Gen), Certified Refurbished, White – Improved smart speaker with Alexa – Like new, backed with 1-year warranty', 'Echo Dot (3rd Gen) – Smart speaker with Alexa (White)', 'Echo Dot (3rd Gen), Certified Refurbished, Grey – Improved smart speaker with Alexa – Like new, backed with 1-year warranty', 'Echo Auto - add Alexa to your car', 'All-new Echo (4th Gen) | Premium sound powered by Dolby and Alexa (White)'], 'rule_x4sz': ['All-new Echo Dot (4th Gen) | Next generation smart speaker with improved bass and Alexa (Black)', 'All-new Echo Dot (4th Gen) | Next generation smart speaker with improved bass and Alexa (Blue)', 'Echo Dot (3rd Gen) – Smart speaker with Alexa (Black)', 'All-new Echo Dot (4th Gen) with clock | Next generation smart speaker with improved bass, LED display and Alexa (Blue)', 'Echo Dot (3rd Gen) – Smart speaker with Alexa (Purple)', 'Introducing Echo Show 8 – Smart display with Alexa - 8', 'Echo Dot (3rd Gen), Certified Refurbished, Black – Improved smart speaker with Alexa – Like new, backed with 1-year warranty', 'All-new Echo (4th Gen) | Premium sound powered by Dolby and Alexa (Black)', 'Introducing Echo Show 5 - Smart display with Alexa - 5.5', 'Echo Dot (3rd Gen, Purple) Combo with Wipro 9W LED Smart Color Bulb - Smart Home Starter Kit', 'All-new Echo (4th Gen) | Premium sound powered by Dolby and Alexa (Blue)', 'Echo Dot (3rd Gen), Certified Refurbished, White – Improved smart speaker with Alexa – Like new, backed with 1-year warranty', 'Echo Dot (3rd Gen) – Smart speaker with Alexa (White)', 'Echo Dot (3rd Gen), Certified Refurbished, Grey – Improved smart speaker with Alexa – Like new, backed with 1-year warranty', 'Echo Auto - add Alexa to your car', 'All-new Echo (4th Gen) | Premium sound powered by Dolby and Alexa (White)'], 'rule_4uln': ['₹3,449', '₹4,499', '₹3,449', '₹4,499', '₹2,449', '₹4,499', '₹4,449', '₹5,499', '₹2,449', '₹4,499', '₹8,499', '₹12,999', '₹2,999', '₹3,799', '₹5,999', '₹9,999', '₹4,999', '₹8,999', '₹2,499', '₹6,598', '₹6,999', '₹9,999', '₹2,999', '₹3,799', '₹2,449', '₹4,499', '₹2,999', '₹3,799', '₹2,999', '₹4,999', '₹6,999', '₹9,999'], 'rule_nabn': ['₹3,449', '₹4,499', '₹3,449', '₹4,499', '₹2,449', '₹4,499', '₹4,449', '₹5,499', '₹2,449', '₹4,499', '₹8,499', '₹12,999', '₹2,999', '₹3,799', '₹5,999', '₹9,999', '₹4,999', '₹8,999', '2499.00', '6598.00', '₹6,999', '₹9,999', '₹2,999', '₹3,799', '₹2,449', '₹4,499', '₹2,999', '₹3,799', '₹2,999', '₹4,999', '₹6,999', '₹9,999'], 'rule_l78b': ['₹3,449', '₹4,499', '₹3,449', '₹4,499', '₹2,449', '₹4,499', '₹4,449', '₹5,499', '₹2,449', '₹4,499', '₹8,499', '₹12,999', '₹2,999', '₹3,799', '₹5,999', '₹9,999', '₹4,999', '₹8,999', '₹2,499', '₹6,598', '₹6,999', '₹9,999', '₹2,999', '₹3,799', '₹2,449', '₹4,499', '₹2,999', '₹3,799', '₹2,999', '₹4,999', '₹6,999', '₹9,999'], 'rule_bmwz': ['₹3,449', '₹4,499', '₹3,449', '₹4,499', '₹2,449', '₹4,499', '₹4,449', '₹5,499', '₹2,449', '₹4,499', '₹8,499', '₹12,999', '₹2,999', '₹3,799', '₹5,999', '₹9,999', '₹4,999', '₹8,999', '2499.00', '6598.00', '₹6,999', '₹9,999', '₹2,999', '₹3,799', '₹2,449', '₹4,499', '₹2,999', '₹3,799', '₹2,999', '₹4,999', '₹6,999', '₹9,999']}\n"
     ]
    }
   ],
   "source": [
    "scraper = AutoScraper()\n",
    "result = scraper.build(amazon_url,wanted_list)\n",
    "data = scraper.get_result_similar(amazon_url, grouped=True)\n",
    "print(data)"
   ]
  },
  {
   "cell_type": "code",
   "execution_count": 22,
   "metadata": {},
   "outputs": [
    {
     "name": "stdout",
     "output_type": "stream",
     "text": [
      "['rule_nh7g', 'rule_0eo0', 'rule_x4sz', 'rule_4uln', 'rule_nabn', 'rule_l78b', 'rule_bmwz']\n"
     ]
    }
   ],
   "source": [
    "key = list(data.keys())\n",
    "print(key)"
   ]
  },
  {
   "cell_type": "code",
   "execution_count": 23,
   "metadata": {},
   "outputs": [],
   "source": [
    "scraper.set_rule_aliases({'rule_0eo0':'Title', 'rule_nh7g':'ImageUrl', 'rule_4uln':'Price'})\n",
    "scraper.keep_rules(['rule_0eo0','rule_nh7g','rule_4uln'])\n",
    "scraper.save('amazon-search.json')"
   ]
  }
 ],
 "metadata": {
  "kernelspec": {
   "display_name": "Python 3",
   "language": "python",
   "name": "python3"
  },
  "language_info": {
   "codemirror_mode": {
    "name": "ipython",
    "version": 3
   },
   "file_extension": ".py",
   "mimetype": "text/x-python",
   "name": "python",
   "nbconvert_exporter": "python",
   "pygments_lexer": "ipython3",
   "version": "3.8.5"
  }
 },
 "nbformat": 4,
 "nbformat_minor": 5
}
