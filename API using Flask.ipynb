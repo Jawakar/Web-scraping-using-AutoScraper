{
 "cells": [
  {
   "cell_type": "code",
   "execution_count": 1,
   "metadata": {},
   "outputs": [
    {
     "name": "stdout",
     "output_type": "stream",
     "text": [
      "Requirement already satisfied: flask in c:\\users\\jawakar\\anaconda3\\lib\\site-packages (1.1.2)\n",
      "Requirement already satisfied: itsdangerous>=0.24 in c:\\users\\jawakar\\anaconda3\\lib\\site-packages (from flask) (1.1.0)\n",
      "Requirement already satisfied: Jinja2>=2.10.1 in c:\\users\\jawakar\\anaconda3\\lib\\site-packages (from flask) (2.11.2)\n",
      "Requirement already satisfied: click>=5.1 in c:\\users\\jawakar\\anaconda3\\lib\\site-packages (from flask) (7.1.2)\n",
      "Requirement already satisfied: Werkzeug>=0.15 in c:\\users\\jawakar\\anaconda3\\lib\\site-packages (from flask) (1.0.1)\n",
      "Requirement already satisfied: MarkupSafe>=0.23 in c:\\users\\jawakar\\anaconda3\\lib\\site-packages (from Jinja2>=2.10.1->flask) (1.1.1)\n"
     ]
    }
   ],
   "source": [
    "! pip install flask"
   ]
  },
  {
   "cell_type": "code",
   "execution_count": 2,
   "metadata": {},
   "outputs": [],
   "source": [
    "from autoscraper import AutoScraper\n",
    "#requst library this is used when we post a search term it goes to the search engine and gives us some specific response\n",
    "from flask import Flask, request"
   ]
  },
  {
   "cell_type": "code",
   "execution_count": 3,
   "metadata": {},
   "outputs": [],
   "source": [
    "# creating object as amazon_scraper from AutoScraper class\n",
    "amazon_scraper = AutoScraper()\n",
    "amazon_scraper.load('amazon-search.json')\n",
    "app = Flask(__name__)"
   ]
  },
  {
   "cell_type": "code",
   "execution_count": null,
   "metadata": {},
   "outputs": [
    {
     "name": "stdout",
     "output_type": "stream",
     "text": [
      " * Serving Flask app \"__main__\" (lazy loading)\n",
      " * Environment: production\n",
      "   WARNING: This is a development server. Do not use it in a production deployment.\n",
      "   Use a production WSGI server instead.\n",
      " * Debug mode: off\n"
     ]
    },
    {
     "name": "stderr",
     "output_type": "stream",
     "text": [
      " * Running on http://0.0.0.0:8080/ (Press CTRL+C to quit)\n"
     ]
    },
    {
     "name": "stdout",
     "output_type": "stream",
     "text": [
      "alexa\n"
     ]
    },
    {
     "name": "stderr",
     "output_type": "stream",
     "text": [
      "127.0.0.1 - - [02/May/2021 11:00:49] \"\u001b[37mGET /?q=alexa HTTP/1.1\u001b[0m\" 200 -\n"
     ]
    },
    {
     "name": "stdout",
     "output_type": "stream",
     "text": [
      "['https://m.media-amazon.com/images/I/61KIy6gX-CL._AC_UY218_.jpg', 'https://m.media-amazon.com/images/I/61MbLLagiVL._AC_UY218_.jpg', 'https://m.media-amazon.com/images/I/61EXU8BuGZL._AC_UY218_.jpg', 'https://m.media-amazon.com/images/I/61u0y9ADElL._AC_UY218_.jpg', 'https://m.media-amazon.com/images/I/61EXU8BuGZL._AC_UY218_.jpg', 'https://m.media-amazon.com/images/I/61V25P7mlyL._AC_UY218_.jpg', 'https://m.media-amazon.com/images/I/61fAoBkYQ1L._AC_UY218_.jpg', 'https://m.media-amazon.com/images/I/61RvgtLChZL._AC_UY218_.jpg', 'https://m.media-amazon.com/images/I/51UZ17lvVFL._AC_UY218_.jpg', 'https://m.media-amazon.com/images/I/61-DjUz7JxL._AC_UY218_.jpg', 'https://m.media-amazon.com/images/I/618AB7m2HML._AC_UY218_.jpg', 'https://m.media-amazon.com/images/I/61RyEv5mnNL._AC_UY218_.jpg', 'https://m.media-amazon.com/images/I/61NIsUGl+FL._AC_UY218_.jpg', 'https://m.media-amazon.com/images/I/51b9EVQUNNL._AC_UY218_.jpg', 'https://m.media-amazon.com/images/I/61AAiJ9LJ+L._AC_UY218_.jpg', 'https://m.media-amazon.com/images/I/51nzR9ZfcyL._AC_UY218_.jpg']\n"
     ]
    },
    {
     "name": "stderr",
     "output_type": "stream",
     "text": [
      "127.0.0.1 - - [02/May/2021 11:00:49] \"\u001b[33mGET /favicon.ico HTTP/1.1\u001b[0m\" 404 -\n"
     ]
    },
    {
     "name": "stdout",
     "output_type": "stream",
     "text": [
      "watch\n"
     ]
    },
    {
     "name": "stderr",
     "output_type": "stream",
     "text": [
      "127.0.0.1 - - [02/May/2021 11:01:00] \"\u001b[37mGET /?q=watch HTTP/1.1\u001b[0m\" 200 -\n"
     ]
    },
    {
     "name": "stdout",
     "output_type": "stream",
     "text": [
      "[]\n",
      "iphone\n"
     ]
    },
    {
     "name": "stderr",
     "output_type": "stream",
     "text": [
      "127.0.0.1 - - [02/May/2021 11:01:09] \"\u001b[37mGET /?q=iphone HTTP/1.1\u001b[0m\" 200 -\n"
     ]
    },
    {
     "name": "stdout",
     "output_type": "stream",
     "text": [
      "['https://m.media-amazon.com/images/I/71tpxtLD0aL._AC_UY218_.jpg', 'https://m.media-amazon.com/images/I/71ZOtNdaZCL._AC_UY218_.jpg', 'https://m.media-amazon.com/images/I/71QE00iB9IL._AC_UY218_.jpg', 'https://m.media-amazon.com/images/I/71w3oJ7aWyL._AC_UY218_.jpg', 'https://m.media-amazon.com/images/I/71w3oJ7aWyL._AC_UY218_.jpg', 'https://m.media-amazon.com/images/I/71uuDYxn3XL._AC_UY218_.jpg', 'https://m.media-amazon.com/images/I/71sNNCTfMuL._AC_UY218_.jpg', 'https://m.media-amazon.com/images/I/71hh7cpWadL._AC_UY218_.jpg', 'https://m.media-amazon.com/images/I/71MHTD3uL4L._AC_UY218_.jpg', 'https://m.media-amazon.com/images/I/71i+-WmxHWL._AC_UY218_.jpg', 'https://m.media-amazon.com/images/I/71fVoqRC0wL._AC_UY218_.jpg', 'https://m.media-amazon.com/images/I/71QE00iB9IL._AC_UY218_.jpg', 'https://m.media-amazon.com/images/I/71ZOtNdaZCL._AC_UY218_.jpg', 'https://m.media-amazon.com/images/I/61ers6OzvUL._AC_UY218_.jpg', 'https://m.media-amazon.com/images/I/51fqTrJaTvL._AC_UY218_.jpg']\n",
      "alexa\n"
     ]
    },
    {
     "name": "stderr",
     "output_type": "stream",
     "text": [
      "127.0.0.1 - - [02/May/2021 11:01:36] \"\u001b[37mGET /?q=alexa HTTP/1.1\u001b[0m\" 200 -\n"
     ]
    },
    {
     "name": "stdout",
     "output_type": "stream",
     "text": [
      "['https://m.media-amazon.com/images/I/61KIy6gX-CL._AC_UY218_.jpg', 'https://m.media-amazon.com/images/I/61MbLLagiVL._AC_UY218_.jpg', 'https://m.media-amazon.com/images/I/61EXU8BuGZL._AC_UY218_.jpg', 'https://m.media-amazon.com/images/I/61u0y9ADElL._AC_UY218_.jpg', 'https://m.media-amazon.com/images/I/61EXU8BuGZL._AC_UY218_.jpg', 'https://m.media-amazon.com/images/I/61V25P7mlyL._AC_UY218_.jpg', 'https://m.media-amazon.com/images/I/61AAiJ9LJ+L._AC_UY218_.jpg', 'https://m.media-amazon.com/images/I/51UZ17lvVFL._AC_UY218_.jpg', 'https://m.media-amazon.com/images/I/61fAoBkYQ1L._AC_UY218_.jpg', 'https://m.media-amazon.com/images/I/61RvgtLChZL._AC_UY218_.jpg', 'https://m.media-amazon.com/images/I/61fAoBkYQ1L._AC_UY218_.jpg', 'https://m.media-amazon.com/images/I/61RyEv5mnNL._AC_UY218_.jpg', 'https://m.media-amazon.com/images/I/61NIsUGl+FL._AC_UY218_.jpg', 'https://m.media-amazon.com/images/I/61JhG2HKMCL._AC_UY218_.jpg', 'https://m.media-amazon.com/images/I/61-DjUz7JxL._AC_UY218_.jpg', 'https://m.media-amazon.com/images/I/51HcJMXt9GL._AC_UY218_.jpg']\n",
      "play station\n"
     ]
    },
    {
     "name": "stderr",
     "output_type": "stream",
     "text": [
      "127.0.0.1 - - [02/May/2021 11:05:37] \"\u001b[37mGET /?q=play%20station HTTP/1.1\u001b[0m\" 200 -\n"
     ]
    },
    {
     "name": "stdout",
     "output_type": "stream",
     "text": [
      "['https://m.media-amazon.com/images/I/81cIK-WlKDL._AC_UY218_.jpg', 'https://m.media-amazon.com/images/I/41npI2n+0aL._AC_UY218_.jpg', 'https://m.media-amazon.com/images/I/71R1q5uH2BL._AC_UY218_.jpg', 'https://m.media-amazon.com/images/I/81r13E63YJL._AC_UY218_.jpg', 'https://m.media-amazon.com/images/I/81s+ahbC+mL._AC_UY218_.jpg', 'https://m.media-amazon.com/images/I/41wOOB1Fd8L._AC_UY218_.jpg', 'https://m.media-amazon.com/images/I/71MdAhb73fS._AC_UY218_.jpg', 'https://m.media-amazon.com/images/I/41LdSEhO+kL._AC_UY218_.jpg', 'https://m.media-amazon.com/images/I/61U62sc8lmL._AC_UY218_.jpg', 'https://m.media-amazon.com/images/I/71QdEJSDDxS._AC_UY218_.jpg', 'https://m.media-amazon.com/images/I/61Y8fU6qxaL._AC_UY218_.jpg', 'https://m.media-amazon.com/images/I/71QZOfO-PQL._AC_UY218_.jpg', 'https://m.media-amazon.com/images/I/41Fqs5ak8hL._AC_UY218_.jpg', 'https://m.media-amazon.com/images/I/411bylsmrXL._AC_UY218_.jpg', 'https://m.media-amazon.com/images/I/41pkWmPU4uL._AC_UY218_.jpg', 'https://m.media-amazon.com/images/I/51ZTvYAgP1S._AC_UY218_.jpg']\n",
      "playstation\n"
     ]
    },
    {
     "name": "stderr",
     "output_type": "stream",
     "text": [
      "127.0.0.1 - - [02/May/2021 11:11:44] \"\u001b[37mGET /?q=playstation HTTP/1.1\u001b[0m\" 200 -\n"
     ]
    },
    {
     "name": "stdout",
     "output_type": "stream",
     "text": [
      "['https://m.media-amazon.com/images/I/81cIK-WlKDL._AC_UY218_.jpg', 'https://m.media-amazon.com/images/I/71R1q5uH2BL._AC_UY218_.jpg', 'https://m.media-amazon.com/images/I/71MdAhb73fS._AC_UY218_.jpg', 'https://m.media-amazon.com/images/I/81s+ahbC+mL._AC_UY218_.jpg', 'https://m.media-amazon.com/images/I/71QZOfO-PQL._AC_UY218_.jpg', 'https://m.media-amazon.com/images/I/61UqrscL+lL._AC_UY218_.jpg', 'https://m.media-amazon.com/images/I/81r13E63YJL._AC_UY218_.jpg', 'https://m.media-amazon.com/images/I/41wOOB1Fd8L._AC_UY218_.jpg', 'https://m.media-amazon.com/images/I/81FURbNad4L._AC_UY218_.jpg', 'https://m.media-amazon.com/images/I/41Jil+j+IOL._AC_UY218_.jpg', 'https://m.media-amazon.com/images/I/51XE3vF7GtS._AC_UY218_.jpg', 'https://m.media-amazon.com/images/I/51ZTvYAgP1S._AC_UY218_.jpg', 'https://m.media-amazon.com/images/I/616r8NrZJvS._AC_UY218_.jpg', 'https://m.media-amazon.com/images/I/71qffYm-2CL._AC_UY218_.jpg', 'https://m.media-amazon.com/images/I/61Y8fU6qxaL._AC_UY218_.jpg', 'https://m.media-amazon.com/images/I/71spav6zzqS._AC_UY218_.jpg']\n",
      "JBLspeaker\n"
     ]
    },
    {
     "name": "stderr",
     "output_type": "stream",
     "text": [
      "127.0.0.1 - - [02/May/2021 11:20:13] \"\u001b[37mGET /?q=JBLspeaker HTTP/1.1\u001b[0m\" 200 -\n"
     ]
    },
    {
     "name": "stdout",
     "output_type": "stream",
     "text": [
      "['https://m.media-amazon.com/images/I/81BIN5YLb4L._AC_UY218_.jpg', 'https://m.media-amazon.com/images/I/81DRhqE04BL._AC_UY218_.jpg', 'https://m.media-amazon.com/images/I/81ZhcVBFwUL._AC_UY218_.jpg', 'https://m.media-amazon.com/images/I/71g0JM2SXvL._AC_UY218_.jpg', 'https://m.media-amazon.com/images/I/91RpOcLbJML._AC_UY218_.jpg', 'https://m.media-amazon.com/images/I/71fzp1etPwL._AC_UY218_.jpg', 'https://m.media-amazon.com/images/I/61d5F64UDpL._AC_UY218_.jpg', 'https://m.media-amazon.com/images/I/81nAvFCzcRL._AC_UY218_.jpg', 'https://m.media-amazon.com/images/I/81WpZI8XIGL._AC_UY218_.jpg', 'https://m.media-amazon.com/images/I/71kvCDqsLIL._AC_UY218_.jpg', 'https://m.media-amazon.com/images/I/715zyfjoyIL._AC_UY218_.jpg', 'https://m.media-amazon.com/images/I/710z3m0lMPL._AC_UY218_.jpg', 'https://m.media-amazon.com/images/I/91fVHZnt0mL._AC_UY218_.jpg', 'https://m.media-amazon.com/images/I/81EVWZ3TzxL._AC_UY218_.jpg', 'https://m.media-amazon.com/images/I/81N8WW8Kv8L._AC_UY218_.jpg']\n",
      "playstation\n"
     ]
    },
    {
     "name": "stderr",
     "output_type": "stream",
     "text": [
      "127.0.0.1 - - [02/May/2021 15:04:02] \"\u001b[37mGET /?q=playstation HTTP/1.1\u001b[0m\" 200 -\n"
     ]
    },
    {
     "name": "stdout",
     "output_type": "stream",
     "text": [
      "['https://m.media-amazon.com/images/I/81cIK-WlKDL._AC_UY218_.jpg', 'https://m.media-amazon.com/images/I/41wOOB1Fd8L._AC_UY218_.jpg', 'https://m.media-amazon.com/images/I/71MdAhb73fS._AC_UY218_.jpg', 'https://m.media-amazon.com/images/I/41LdSEhO+kL._AC_UY218_.jpg', 'https://m.media-amazon.com/images/I/61Y8fU6qxaL._AC_UY218_.jpg', 'https://m.media-amazon.com/images/I/61U62sc8lmL._AC_UY218_.jpg', 'https://m.media-amazon.com/images/I/71QdEJSDDxS._AC_UY218_.jpg', 'https://m.media-amazon.com/images/I/71QZOfO-PQL._AC_UY218_.jpg', 'https://m.media-amazon.com/images/I/71R1q5uH2BL._AC_UY218_.jpg', 'https://m.media-amazon.com/images/I/41pkWmPU4uL._AC_UY218_.jpg', 'https://m.media-amazon.com/images/I/51ZTvYAgP1S._AC_UY218_.jpg', 'https://m.media-amazon.com/images/I/413yOQRYszL._AC_UY218_.jpg', 'https://m.media-amazon.com/images/I/616r8NrZJvS._AC_UY218_.jpg', 'https://m.media-amazon.com/images/I/411bylsmrXL._AC_UY218_.jpg', 'https://m.media-amazon.com/images/I/61L30Pz4q7L._AC_UY218_.jpg', 'https://m.media-amazon.com/images/I/51XE3vF7GtS._AC_UY218_.jpg']\n",
      "JBLspeaker\n"
     ]
    },
    {
     "name": "stderr",
     "output_type": "stream",
     "text": [
      "127.0.0.1 - - [02/May/2021 15:05:38] \"\u001b[37mGET /?q=JBLspeaker HTTP/1.1\u001b[0m\" 200 -\n"
     ]
    },
    {
     "name": "stdout",
     "output_type": "stream",
     "text": [
      "['https://m.media-amazon.com/images/I/81BIN5YLb4L._AC_UY218_.jpg', 'https://m.media-amazon.com/images/I/71a1b79ML-L._AC_UY218_.jpg', 'https://m.media-amazon.com/images/I/81ZhcVBFwUL._AC_UY218_.jpg', 'https://m.media-amazon.com/images/I/71g0JM2SXvL._AC_UY218_.jpg', 'https://m.media-amazon.com/images/I/91RpOcLbJML._AC_UY218_.jpg', 'https://m.media-amazon.com/images/I/71fzp1etPwL._AC_UY218_.jpg', 'https://m.media-amazon.com/images/I/61d5F64UDpL._AC_UY218_.jpg', 'https://m.media-amazon.com/images/I/81nAvFCzcRL._AC_UY218_.jpg', 'https://m.media-amazon.com/images/I/81WpZI8XIGL._AC_UY218_.jpg', 'https://m.media-amazon.com/images/I/71kvCDqsLIL._AC_UY218_.jpg', 'https://m.media-amazon.com/images/I/710z3m0lMPL._AC_UY218_.jpg', 'https://m.media-amazon.com/images/I/715zyfjoyIL._AC_UY218_.jpg', 'https://m.media-amazon.com/images/I/91fVHZnt0mL._AC_UY218_.jpg', 'https://m.media-amazon.com/images/I/81EVWZ3TzxL._AC_UY218_.jpg', 'https://m.media-amazon.com/images/I/81N8WW8Kv8L._AC_UY218_.jpg']\n",
      "playstation\n"
     ]
    },
    {
     "name": "stderr",
     "output_type": "stream",
     "text": [
      "127.0.0.1 - - [02/May/2021 15:06:23] \"\u001b[37mGET /?q=playstation HTTP/1.1\u001b[0m\" 200 -\n"
     ]
    },
    {
     "name": "stdout",
     "output_type": "stream",
     "text": [
      "['https://m.media-amazon.com/images/I/81cIK-WlKDL._AC_UY218_.jpg', 'https://m.media-amazon.com/images/I/71R1q5uH2BL._AC_UY218_.jpg', 'https://m.media-amazon.com/images/I/41npI2n+0aL._AC_UY218_.jpg', 'https://m.media-amazon.com/images/I/81s+ahbC+mL._AC_UY218_.jpg', 'https://m.media-amazon.com/images/I/31obb1-L1UL._AC_UY218_.jpg', 'https://m.media-amazon.com/images/I/41wOOB1Fd8L._AC_UY218_.jpg', 'https://m.media-amazon.com/images/I/71MdAhb73fS._AC_UY218_.jpg', 'https://m.media-amazon.com/images/I/41LdSEhO+kL._AC_UY218_.jpg', 'https://m.media-amazon.com/images/I/61Y8fU6qxaL._AC_UY218_.jpg', 'https://m.media-amazon.com/images/I/71QZOfO-PQL._AC_UY218_.jpg', 'https://m.media-amazon.com/images/I/61U62sc8lmL._AC_UY218_.jpg', 'https://m.media-amazon.com/images/I/71QdEJSDDxS._AC_UY218_.jpg', 'https://m.media-amazon.com/images/I/41pkWmPU4uL._AC_UY218_.jpg', 'https://m.media-amazon.com/images/I/51ZTvYAgP1S._AC_UY218_.jpg', 'https://m.media-amazon.com/images/I/413yOQRYszL._AC_UY218_.jpg', 'https://m.media-amazon.com/images/I/616r8NrZJvS._AC_UY218_.jpg']\n",
      "googlemini\n"
     ]
    },
    {
     "name": "stderr",
     "output_type": "stream",
     "text": [
      "127.0.0.1 - - [02/May/2021 15:21:48] \"\u001b[37mGET /?q=googlemini HTTP/1.1\u001b[0m\" 200 -\n"
     ]
    },
    {
     "name": "stdout",
     "output_type": "stream",
     "text": [
      "['https://m.media-amazon.com/images/I/61EXU8BuGZL._AC_UY218_.jpg', 'https://m.media-amazon.com/images/I/61KIy6gX-CL._AC_UY218_.jpg', 'https://m.media-amazon.com/images/I/51b3T6XJlhL._AC_UY218_.jpg', 'https://m.media-amazon.com/images/I/61V25P7mlyL._AC_UY218_.jpg', 'https://m.media-amazon.com/images/I/810MdWjT1qL._AC_UY218_.jpg', 'https://m.media-amazon.com/images/I/71N+p0x+HDL._AC_UY218_.jpg', 'https://m.media-amazon.com/images/I/51MYcK9BAjL._AC_UY218_.jpg', 'https://m.media-amazon.com/images/I/51Fu0-t1u+L._AC_UY218_.jpg', 'https://m.media-amazon.com/images/I/51MKugSsWDL._AC_UY218_.jpg', 'https://m.media-amazon.com/images/I/51oQYu2DjYL._AC_UY218_.jpg', 'https://m.media-amazon.com/images/I/616txKvg1-L._AC_UY218_.jpg', 'https://m.media-amazon.com/images/I/81CIv248xmL._AC_UY218_.jpg', 'https://m.media-amazon.com/images/I/511NMBu5LnL._AC_UY218_.jpg', 'https://m.media-amazon.com/images/I/51Kb2rFcomL._AC_UY218_.jpg', 'https://m.media-amazon.com/images/I/6182GmVZGLL._AC_UY218_.jpg', 'https://m.media-amazon.com/images/I/410Ufd4JbhL._AC_UY218_.jpg']\n",
      "JBLspeaker\n"
     ]
    },
    {
     "name": "stderr",
     "output_type": "stream",
     "text": [
      "127.0.0.1 - - [02/May/2021 15:22:26] \"\u001b[37mGET /?q=JBLspeaker HTTP/1.1\u001b[0m\" 200 -\n"
     ]
    },
    {
     "name": "stdout",
     "output_type": "stream",
     "text": [
      "['https://m.media-amazon.com/images/I/81BIN5YLb4L._AC_UY218_.jpg', 'https://m.media-amazon.com/images/I/71a1b79ML-L._AC_UY218_.jpg', 'https://m.media-amazon.com/images/I/71fzp1etPwL._AC_UY218_.jpg', 'https://m.media-amazon.com/images/I/81nAvFCzcRL._AC_UY218_.jpg', 'https://m.media-amazon.com/images/I/91RpOcLbJML._AC_UY218_.jpg', 'https://m.media-amazon.com/images/I/81ZhcVBFwUL._AC_UY218_.jpg', 'https://m.media-amazon.com/images/I/81EVWZ3TzxL._AC_UY218_.jpg', 'https://m.media-amazon.com/images/I/81WpZI8XIGL._AC_UY218_.jpg', 'https://m.media-amazon.com/images/I/91fVHZnt0mL._AC_UY218_.jpg', 'https://m.media-amazon.com/images/I/71g0JM2SXvL._AC_UY218_.jpg', 'https://m.media-amazon.com/images/I/816S-DoYilL._AC_UY218_.jpg', 'https://m.media-amazon.com/images/I/81ViL1NpS0L._AC_UY218_.jpg', 'https://m.media-amazon.com/images/I/71xgxETs+fL._AC_UY218_.jpg', 'https://m.media-amazon.com/images/I/61d5F64UDpL._AC_UY218_.jpg', 'https://m.media-amazon.com/images/I/715zyfjoyIL._AC_UY218_.jpg']\n",
      "playstation\n"
     ]
    },
    {
     "name": "stderr",
     "output_type": "stream",
     "text": [
      "127.0.0.1 - - [02/May/2021 15:22:45] \"\u001b[37mGET /?q=playstation HTTP/1.1\u001b[0m\" 200 -\n"
     ]
    },
    {
     "name": "stdout",
     "output_type": "stream",
     "text": [
      "['https://m.media-amazon.com/images/I/81cIK-WlKDL._AC_UY218_.jpg', 'https://m.media-amazon.com/images/I/41wOOB1Fd8L._AC_UY218_.jpg', 'https://m.media-amazon.com/images/I/71MdAhb73fS._AC_UY218_.jpg', 'https://m.media-amazon.com/images/I/41LdSEhO+kL._AC_UY218_.jpg', 'https://m.media-amazon.com/images/I/61Y8fU6qxaL._AC_UY218_.jpg', 'https://m.media-amazon.com/images/I/71QZOfO-PQL._AC_UY218_.jpg', 'https://m.media-amazon.com/images/I/61U62sc8lmL._AC_UY218_.jpg', 'https://m.media-amazon.com/images/I/71QdEJSDDxS._AC_UY218_.jpg', 'https://m.media-amazon.com/images/I/71R1q5uH2BL._AC_UY218_.jpg', 'https://m.media-amazon.com/images/I/41pkWmPU4uL._AC_UY218_.jpg', 'https://m.media-amazon.com/images/I/51ZTvYAgP1S._AC_UY218_.jpg', 'https://m.media-amazon.com/images/I/413yOQRYszL._AC_UY218_.jpg', 'https://m.media-amazon.com/images/I/616r8NrZJvS._AC_UY218_.jpg', 'https://m.media-amazon.com/images/I/411bylsmrXL._AC_UY218_.jpg', 'https://m.media-amazon.com/images/I/61XXYxVywYL._AC_UY218_.jpg', 'https://m.media-amazon.com/images/I/51XE3vF7GtS._AC_UY218_.jpg']\n",
      "googlemini\n"
     ]
    },
    {
     "name": "stderr",
     "output_type": "stream",
     "text": [
      "127.0.0.1 - - [02/May/2021 15:22:56] \"\u001b[37mGET /?q=googlemini HTTP/1.1\u001b[0m\" 200 -\n"
     ]
    },
    {
     "name": "stdout",
     "output_type": "stream",
     "text": [
      "['https://m.media-amazon.com/images/I/61V25P7mlyL._AC_UY218_.jpg', 'https://m.media-amazon.com/images/I/61EXU8BuGZL._AC_UY218_.jpg', 'https://m.media-amazon.com/images/I/61KIy6gX-CL._AC_UY218_.jpg', 'https://m.media-amazon.com/images/I/51MYcK9BAjL._AC_UY218_.jpg', 'https://m.media-amazon.com/images/I/61fAoBkYQ1L._AC_UY218_.jpg', 'https://m.media-amazon.com/images/I/61u0y9ADElL._AC_UY218_.jpg', 'https://m.media-amazon.com/images/I/6156GbOu8vL._AC_UY218_.jpg', 'https://m.media-amazon.com/images/I/61qIcidztUL._AC_UY218_.jpg', 'https://m.media-amazon.com/images/I/61xPsxDDDAL._AC_UY218_.jpg', 'https://m.media-amazon.com/images/I/51qZt0sSiNL._AC_UY218_.jpg', 'https://m.media-amazon.com/images/I/410Ufd4JbhL._AC_UY218_.jpg', 'https://m.media-amazon.com/images/I/51b3T6XJlhL._AC_UY218_.jpg', 'https://m.media-amazon.com/images/I/51Fu0-t1u+L._AC_UY218_.jpg', 'https://m.media-amazon.com/images/I/616txKvg1-L._AC_UY218_.jpg', 'https://m.media-amazon.com/images/I/51v1QvbsngL._AC_UY218_.jpg', 'https://m.media-amazon.com/images/I/51oQYu2DjYL._AC_UY218_.jpg']\n"
     ]
    }
   ],
   "source": [
    "def get_amazon_result(search_query):\n",
    "    url = 'https://www.amazon.in/s?k=%s' % search_query\n",
    "    result = amazon_scraper.get_result_similar(url, group_by_alias=True)\n",
    "    return _aggregate_result(result)\n",
    "\n",
    "def _aggregate_result(result):\n",
    "    final_result = []\n",
    "    print(list(result.values())[0])\n",
    "    for i in range(len(list(result.values())[0])):\n",
    "        try:\n",
    "            final_result.append({alias:result[alias][i] for alias in result})\n",
    "        except:\n",
    "            pass\n",
    "    return final_result\n",
    "\n",
    "@app.route('/',methods=['GET'])\n",
    "def search_api():\n",
    "    query = request.args.get('q')\n",
    "    print(query)\n",
    "    return dict(result=get_amazon_result(query))\n",
    "\n",
    "if __name__=='__main__':\n",
    "    app.run(port=8080, host='0.0.0.0')"
   ]
  },
  {
   "cell_type": "code",
   "execution_count": null,
   "metadata": {},
   "outputs": [],
   "source": []
  }
 ],
 "metadata": {
  "kernelspec": {
   "display_name": "Python 3",
   "language": "python",
   "name": "python3"
  },
  "language_info": {
   "codemirror_mode": {
    "name": "ipython",
    "version": 3
   },
   "file_extension": ".py",
   "mimetype": "text/x-python",
   "name": "python",
   "nbconvert_exporter": "python",
   "pygments_lexer": "ipython3",
   "version": "3.8.5"
  }
 },
 "nbformat": 4,
 "nbformat_minor": 5
}
